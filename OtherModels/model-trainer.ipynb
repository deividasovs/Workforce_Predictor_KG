{
 "cells": [
  {
   "attachments": {},
   "cell_type": "markdown",
   "metadata": {},
   "source": [
    "# Simple Regression NN"
   ]
  },
  {
   "cell_type": "code",
   "execution_count": null,
   "metadata": {},
   "outputs": [],
   "source": [
    "import sys\n",
    "\n",
    "import numpy as np\n",
    "import torch\n",
    "import torch.nn as nn\n",
    "import torch.optim as optim\n",
    "from torch.utils.data import  DataLoader\n",
    "\n",
    "from sklearn.model_selection import train_test_split\n",
    "from sklearn.metrics import mean_absolute_error, mean_squared_error\n",
    "\n",
    "from testTrainData import TrainData, TestData\n",
    "\n",
    "# Model imports\n",
    "from multiLabelRegression import MultiLabelRegression\n",
    "from multiLayerMultiLabelRegression import MultiLayerMultiLabelRegression\n",
    "from pytorch_forecasting.metrics import QuantileLoss, MultiLoss\n"
   ]
  },
  {
   "cell_type": "code",
   "execution_count": null,
   "metadata": {},
   "outputs": [],
   "source": [
    "# Import modules from parent directory\n",
    "sys.path.insert(0,'..')\n",
    "\n",
    "from ipynb.fs.full.training_preprocessing import GetDataset"
   ]
  },
  {
   "cell_type": "code",
   "execution_count": null,
   "metadata": {},
   "outputs": [],
   "source": [
    "df = GetDataset()"
   ]
  },
  {
   "cell_type": "code",
   "execution_count": null,
   "metadata": {},
   "outputs": [],
   "source": [
    "# set x equal to all columns except for the transaction_count and workforce_type_1\n",
    "x = df.drop(['transaction_count', 'workforce_type_1','workforce_type_2', 'workforce_type_3','workforce_type_4'], axis=1)\n",
    "# convert x to a 2d array\n",
    "x = x.values.tolist()\n",
    "\n",
    "\n",
    "# set y equal to the transaction_count and workforce_type_1 columns\n",
    "y = df[['transaction_count', 'workforce_type_1', 'workforce_type_2', 'workforce_type_3','workforce_type_4']]\n",
    "# convert y to an array\n",
    "y = y.values.tolist()"
   ]
  },
  {
   "cell_type": "code",
   "execution_count": null,
   "metadata": {},
   "outputs": [],
   "source": [
    "TEST_SIZE = 0.33\n",
    "\n",
    "X_train, X_test, y_train, y_test = train_test_split(x, y, test_size=TEST_SIZE)"
   ]
  },
  {
   "cell_type": "code",
   "execution_count": null,
   "metadata": {},
   "outputs": [],
   "source": [
    "train_data = TrainData(torch.FloatTensor(X_train), torch.FloatTensor(y_train))\n",
    "\n",
    "test_data = TestData(torch.FloatTensor(X_test))"
   ]
  },
  {
   "cell_type": "code",
   "execution_count": null,
   "metadata": {},
   "outputs": [],
   "source": [
    "def train(model, scheduler, criterion, num_epochs, train_loader):\n",
    "    lowest_loss = 1000\n",
    "\n",
    "    for epoch in range(num_epochs):\n",
    "        for inputs, targets in train_loader:\n",
    "            # Forward pass\n",
    "            outputs = model(inputs)\n",
    "            # Compute loss\n",
    "            loss = criterion(outputs, targets)\n",
    "\n",
    "            # Backward pass and optimization\n",
    "            scheduler.optimizer.zero_grad()\n",
    "            loss.backward()\n",
    "            scheduler.optimizer.step()\n",
    "\n",
    "        scheduler.step(loss)\n",
    "        print(scheduler.optimizer.param_groups[0]['lr'])\n",
    "\n",
    "        # check if the current model has the lowest loss\n",
    "        if loss < lowest_loss:\n",
    "            # update the lowest loss variable\n",
    "            lowest_loss = loss\n",
    "            \n",
    "            # save the current model checkpoint\n",
    "            checkpoint = {\n",
    "                'epoch': epoch,\n",
    "                'model_state_dict': model.state_dict(),\n",
    "                'optimizer_state_dict': scheduler.optimizer.state_dict(),\n",
    "                'loss': lowest_loss\n",
    "            }\n",
    "            torch.save(checkpoint, 'saved/bestModelChkpt.pt')\n",
    "            torch.save(model.state_dict(), 'saved/bestModel.pt')\n",
    "            \n",
    "        # Print progress\n",
    "        print('Epoch [{}/{}], Loss: {:.4f}'.format(epoch+1, num_epochs, loss.item()))\n"
   ]
  },
  {
   "cell_type": "code",
   "execution_count": null,
   "metadata": {},
   "outputs": [],
   "source": [
    "device = torch.device(\"cuda:0\" if torch.cuda.is_available() else \"cpu\")"
   ]
  },
  {
   "cell_type": "code",
   "execution_count": null,
   "metadata": {},
   "outputs": [],
   "source": [
    "# Hyperparameters\n",
    "LEARNING_RATE = 0.001\n",
    "EPOCHS = 10000"
   ]
  },
  {
   "cell_type": "code",
   "execution_count": null,
   "metadata": {},
   "outputs": [],
   "source": [
    "# Models\n",
    "#model = MultiLayerMultiLabelRegression(11, 5)\n",
    "model = MultiLabelRegression(11, 5)\n",
    "model.to(device)"
   ]
  },
  {
   "cell_type": "code",
   "execution_count": null,
   "metadata": {},
   "outputs": [],
   "source": [
    "# Define the loss function and the optimizer\n",
    "criterion = nn.MSELoss()\n",
    "optimizer = optim.Adam(model.parameters(), lr=LEARNING_RATE)\n",
    "\n",
    "scheduler = optim.lr_scheduler.ReduceLROnPlateau(optimizer, mode='min', factor=0.1, patience=5, verbose=True, threshold=0.0001, threshold_mode='rel', cooldown=0, min_lr=0, eps=1e-8)\n"
   ]
  },
  {
   "cell_type": "code",
   "execution_count": null,
   "metadata": {},
   "outputs": [],
   "source": [
    "train(model, scheduler, criterion, EPOCHS, train_data)"
   ]
  },
  {
   "cell_type": "code",
   "execution_count": null,
   "metadata": {},
   "outputs": [],
   "source": [
    "# Save the torch model\n",
    "# Load the best model\n",
    "#model = MultiLabelRegression(11, 5)\n",
    "model = MultiLayerMultiLabelRegression(11,5)\n",
    "\n",
    "modelChkpt = torch.load('saved/singleLayerRegression1000epochChkpt.pt')\n",
    "model.load_state_dict(torch.load('saved/multi_layer_linear_regression.pt'))\n",
    "model.to(device)"
   ]
  },
  {
   "cell_type": "code",
   "execution_count": null,
   "metadata": {},
   "outputs": [],
   "source": [
    "# Get the model loss\n",
    "model_loss = modelChkpt['loss']\n",
    "model_loss"
   ]
  },
  {
   "attachments": {},
   "cell_type": "markdown",
   "metadata": {},
   "source": [
    "## Evaluating model performance"
   ]
  },
  {
   "cell_type": "code",
   "execution_count": null,
   "metadata": {},
   "outputs": [],
   "source": [
    "Xtest = torch.FloatTensor(X_test)\n",
    "test_loader = DataLoader(dataset=Xtest, batch_size=1)\n",
    "\n",
    "# Set the model to eval mode and generate a list of predictions for the test data\n",
    "model.eval()\n",
    "y_pred_list = []\n",
    "with torch.no_grad():\n",
    "    for X_batch in test_loader:\n",
    "        X_batch = X_batch.to(device)\n",
    "        y_test_pred = model(X_batch)\n",
    "        y_pred_list.append(y_test_pred.cpu().numpy())\n",
    "\n",
    "y_pred_list = [a.squeeze().tolist() for a in y_pred_list]\n",
    "y_pred_list"
   ]
  },
  {
   "cell_type": "code",
   "execution_count": null,
   "metadata": {},
   "outputs": [],
   "source": [
    "# create an array of only the first object of each array inside y_pred_list\n",
    "transaction_count_predictions = [a[0] for a in y_pred_list]\n",
    "transaction_count_actuals = [a[0] for a in y_test]"
   ]
  },
  {
   "cell_type": "code",
   "execution_count": null,
   "metadata": {},
   "outputs": [],
   "source": [
    "# Calculate the MSE and MAE between the predictions and the actual values\n",
    "mse = mean_squared_error(y_test, y_pred_list)\n",
    "mae = mean_absolute_error(y_test, y_pred_list)\n",
    "\n",
    "print(f'MSE: {mse:.2f}, MAE: {mae:.2f}')"
   ]
  },
  {
   "cell_type": "code",
   "execution_count": null,
   "metadata": {},
   "outputs": [],
   "source": [
    "# Calculate the MSE and MAE between only the transaction_count prediction and the actual values\n",
    "mse = mean_squared_error(transaction_count_actuals[:128], transaction_count_predictions[:128])\n",
    "mae = mean_absolute_error(transaction_count_actuals[:128], transaction_count_predictions[:128])\n",
    "\n",
    "print(f'MSE: {mse:.2f}, MAE: {mae:.2f}')"
   ]
  },
  {
   "cell_type": "code",
   "execution_count": null,
   "metadata": {},
   "outputs": [],
   "source": [
    "# Measuring against the baseline (63 samples)\n",
    "mse = mean_squared_error(transaction_count_actuals[:63], transaction_count_predictions[:63])\n",
    "mae = mean_absolute_error(transaction_count_actuals[:63], transaction_count_predictions[:63])\n",
    "\n",
    "print(f'MSE: {mse:.2f}, MAE: {mae:.2f}')"
   ]
  },
  {
   "cell_type": "code",
   "execution_count": null,
   "metadata": {},
   "outputs": [],
   "source": [
    "dist = torch.dist(torch.FloatTensor(transaction_count_predictions), torch.FloatTensor(transaction_count_actuals))\n",
    "\n",
    "dist"
   ]
  },
  {
   "cell_type": "code",
   "execution_count": null,
   "metadata": {},
   "outputs": [],
   "source": [
    "# Calculate SMAPE between actual and predicted values.\n",
    "def smape(actual, predicted):\n",
    "    actual = np.array(actual)\n",
    "    predicted = np.array(predicted)\n",
    "    smape_val = (100.0 / actual.size) * np.sum(2.0 * np.abs(predicted - actual) / (np.abs(actual) + np.abs(predicted)))\n",
    "    return smape_val"
   ]
  },
  {
   "cell_type": "code",
   "execution_count": null,
   "metadata": {},
   "outputs": [],
   "source": [
    "smape = smape(y_pred_list[:63], y_test[:63])\n",
    "print(smape)"
   ]
  },
  {
   "cell_type": "code",
   "execution_count": null,
   "metadata": {},
   "outputs": [],
   "source": [
    "# Graph the predictions vs the actual values\n",
    "import matplotlib.pyplot as plt\n",
    "\n",
    "#plt.scatter(transaction_count_predictions, transaction_count_actuals, alpha=0.5)\n",
    "plt.plot(transaction_count_actuals[200:600], label='Actual')\n",
    "plt.plot(transaction_count_predictions[200:600], label='Predicted')\n",
    "plt.xlabel('Data Point Index')\n",
    "plt.ylabel('Value')\n",
    "plt.title('Predictions vs Actual Values')\n",
    "plt.legend()\n",
    "plt.show()"
   ]
  }
 ],
 "metadata": {
  "kernelspec": {
   "display_name": "Python 3",
   "language": "python",
   "name": "python3"
  },
  "language_info": {
   "codemirror_mode": {
    "name": "ipython",
    "version": 3
   },
   "file_extension": ".py",
   "mimetype": "text/x-python",
   "name": "python",
   "nbconvert_exporter": "python",
   "pygments_lexer": "ipython3",
   "version": "3.9.6"
  },
  "orig_nbformat": 4,
  "vscode": {
   "interpreter": {
    "hash": "31f2aee4e71d21fbe5cf8b01ff0e069b9275f58929596ceb00d14d90e3e16cd6"
   }
  }
 },
 "nbformat": 4,
 "nbformat_minor": 2
}
